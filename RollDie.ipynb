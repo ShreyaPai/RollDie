{
 "cells": [
  {
   "cell_type": "code",
   "execution_count": null,
   "metadata": {},
   "outputs": [],
   "source": [
    "import random\n",
    "print(\"Roll a die\")\n",
    "userInput=\"y\"\n",
    "def roll():\n",
    "    print(random.randint(1,6))\n",
    "    \n",
    "roll() \n",
    "\n",
    "while userInput == 'y':\n",
    "    print(\"Do you want to roll again? y or n\")\n",
    "    userInput=input()\n",
    "    userInput=str(userInput)\n",
    "    if userInput == 'y':\n",
    "        roll()\n",
    "    if userInput == 'n':\n",
    "        exit"
   ]
  },
  {
   "cell_type": "code",
   "execution_count": null,
   "metadata": {},
   "outputs": [],
   "source": []
  }
 ],
 "metadata": {
  "kernelspec": {
   "display_name": "Python 3",
   "language": "python",
   "name": "python3"
  },
  "language_info": {
   "codemirror_mode": {
    "name": "ipython",
    "version": 3
   },
   "file_extension": ".py",
   "mimetype": "text/x-python",
   "name": "python",
   "nbconvert_exporter": "python",
   "pygments_lexer": "ipython3",
   "version": "3.6.8"
  }
 },
 "nbformat": 4,
 "nbformat_minor": 2
}
